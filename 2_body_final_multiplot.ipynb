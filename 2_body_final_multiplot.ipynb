{
  "nbformat": 4,
  "nbformat_minor": 0,
  "metadata": {
    "colab": {
      "provenance": []
    },
    "kernelspec": {
      "name": "python3",
      "display_name": "Python 3"
    },
    "language_info": {
      "name": "python"
    }
  },
  "cells": [
    {
      "cell_type": "code",
      "execution_count": null,
      "metadata": {
        "id": "ZXm9HjNPAJus"
      },
      "outputs": [],
      "source": [
        "import numpy as np\n",
        "import matplotlib.pyplot as plt\n",
        "import random"
      ]
    },
    {
      "cell_type": "markdown",
      "source": [
        "We consider a block of t metres thickness (user input). Then we apply MC to understand where the reaction might take place in the block. We calculate the new energy after loss there. It will be used in the reaction. Again theta for the reaction is calculated using MC. Then we calculate the fnal energy after considering energy loss of the projectile. (Initial energy will also be user input)."
      ],
      "metadata": {
        "id": "BL5wBEwAm7v_"
      }
    },
    {
      "cell_type": "code",
      "source": [
        "n=int(input(\"Enter the no. of plots you want to make\"))"
      ],
      "metadata": {
        "colab": {
          "base_uri": "https://localhost:8080/"
        },
        "id": "ukkI57VPxJ30",
        "outputId": "0e143e89-a293-4d9a-e529-a2731867e682"
      },
      "execution_count": null,
      "outputs": [
        {
          "name": "stdout",
          "output_type": "stream",
          "text": [
            "Enter the no. of plots you want to make2\n"
          ]
        }
      ]
    },
    {
      "cell_type": "code",
      "source": [
        "reac=[]\n",
        "for i in range(0,n):\n",
        "\n",
        "  rc=input(\"Enter the name of reaction\"+str(i+1))\n",
        "  reac.append(rc)"
      ],
      "metadata": {
        "colab": {
          "base_uri": "https://localhost:8080/"
        },
        "id": "EN1EhLgEcPr9",
        "outputId": "04aa5a00-2119-45b3-81d1-c171f34d2dc1"
      },
      "execution_count": null,
      "outputs": [
        {
          "name": "stdout",
          "output_type": "stream",
          "text": [
            "Enter the name of reaction11\n",
            "Enter the name of reaction22\n"
          ]
        }
      ]
    },
    {
      "cell_type": "code",
      "source": [
        "d=np.loadtxt(\"nuclear_multi.txt\", unpack=True, delimiter=\" \") #loading input file"
      ],
      "metadata": {
        "id": "7sVSQ39lxK-Z"
      },
      "execution_count": null,
      "outputs": []
    },
    {
      "cell_type": "code",
      "source": [
        "NEvents=10000"
      ],
      "metadata": {
        "id": "3YVtsU-_K7aK"
      },
      "execution_count": null,
      "outputs": []
    },
    {
      "cell_type": "code",
      "source": [
        "# taking thickness and initial energy as input\n",
        "\n",
        "t=np.array(d[9])  # in micron\n",
        "E_given=np.array(d[10]) # in keV"
      ],
      "metadata": {
        "id": "GTus5IR_lLRy"
      },
      "execution_count": null,
      "outputs": []
    },
    {
      "cell_type": "code",
      "source": [
        "# calculating probable place of reaction in the block using MC\n",
        "\n",
        "samples=np.array([])\n",
        "th=np.array([])\n",
        "for j in range(n):\n",
        "  samples=np.append(samples,t[j]*np.random.rand(10000))\n",
        "  th=np.append(th,180*np.random.rand(10000))\n",
        "q=0\n",
        "s=0\n",
        "p=0\n",
        "x=np.array([])\n",
        "x=samples\n",
        "x=x.reshape(n,10000)\n",
        "angles=np.array([])\n",
        "angles=th\n",
        "angles=angles.reshape(n,10000)\n",
        "for i in range(0,n):\n",
        "   angles[i]=np.sort(angles[i])"
      ],
      "metadata": {
        "id": "PZBrMf6FmRRX"
      },
      "execution_count": null,
      "outputs": []
    },
    {
      "cell_type": "code",
      "source": [
        "np.shape(angles)"
      ],
      "metadata": {
        "colab": {
          "base_uri": "https://localhost:8080/"
        },
        "id": "JGxiRvnSIkwp",
        "outputId": "93ac7acc-cc0d-4ae7-85c4-e1a8e80d2770"
      },
      "execution_count": null,
      "outputs": [
        {
          "output_type": "execute_result",
          "data": {
            "text/plain": [
              "(2, 10000)"
            ]
          },
          "metadata": {},
          "execution_count": 153
        }
      ]
    },
    {
      "cell_type": "code",
      "source": [
        "x=x*(1e-6)  # in m\n",
        "t=t*(1e-6)   # in m"
      ],
      "metadata": {
        "id": "ToR2J0OPUr81"
      },
      "execution_count": null,
      "outputs": []
    },
    {
      "cell_type": "code",
      "source": [
        "x"
      ],
      "metadata": {
        "colab": {
          "base_uri": "https://localhost:8080/"
        },
        "id": "gwXUlQd-Ywvr",
        "outputId": "819aaef3-fad2-49ef-d9b6-eb941ab2f90f"
      },
      "execution_count": null,
      "outputs": [
        {
          "output_type": "execute_result",
          "data": {
            "text/plain": [
              "array([[1.43276320e-05, 1.39524445e-05, 4.03336559e-06, ...,\n",
              "        3.78437812e-06, 1.02295360e-05, 1.97701821e-06],\n",
              "       [6.45674506e-06, 8.52154233e-06, 1.32590912e-06, ...,\n",
              "        1.19497863e-05, 1.37685519e-05, 8.52166901e-06]])"
            ]
          },
          "metadata": {},
          "execution_count": 174
        }
      ]
    },
    {
      "cell_type": "code",
      "source": [
        "# parameters\n",
        "\n",
        "z=np.array(d[0]) # at. no. of projectile\n",
        "a=np.array(d[1]) # at. mass of projectile\n",
        "Z=np.array(d[2]) # at. no. of target\n",
        "A=np.array(d[3]) # at. mass of target\n",
        "b=np.array(d[4]) # at. mass of lighter product\n",
        "B=np.array(d[5]) # at. mass of heavier product\n",
        "z2=np.array(d[6])  # at. no. of lighter product\n",
        "rho=np.array(d[7])  # density of target in kg/m ^3\n",
        "I=np.array(d[8])  # ionisation potential of target in keV\n",
        "r=np.array(d[11])  # radius of target in m\n",
        "e=1.6e-19  # in coulomb\n",
        "K=9e+9  # electrostatic constant\n",
        "Na=6.022e+23  # avogadro no.\n",
        "E_in_J=(1.60218e-16)*E_given  # from keV to J\n",
        "q=((B+b)-(A+a))*931.25*1000  # in keV"
      ],
      "metadata": {
        "id": "6PAJptmtpnCX"
      },
      "execution_count": null,
      "outputs": []
    },
    {
      "cell_type": "code",
      "source": [
        "I"
      ],
      "metadata": {
        "colab": {
          "base_uri": "https://localhost:8080/"
        },
        "id": "OXtG3Rl21dPt",
        "outputId": "bfc98692-0450-4305-9090-eb6b34ca74ef"
      },
      "execution_count": null,
      "outputs": [
        {
          "output_type": "execute_result",
          "data": {
            "text/plain": [
              "array([0.0074166, 0.01122  ])"
            ]
          },
          "metadata": {},
          "execution_count": 181
        }
      ]
    },
    {
      "cell_type": "code",
      "source": [
        "E_given"
      ],
      "metadata": {
        "colab": {
          "base_uri": "https://localhost:8080/"
        },
        "id": "uUwolgry06xv",
        "outputId": "3dc3e2ff-ebdb-4a92-8cc5-66067e91caca"
      },
      "execution_count": null,
      "outputs": [
        {
          "output_type": "execute_result",
          "data": {
            "text/plain": [
              "array([35000., 35000.])"
            ]
          },
          "metadata": {},
          "execution_count": 179
        }
      ]
    },
    {
      "cell_type": "code",
      "source": [
        "E_in_J"
      ],
      "metadata": {
        "colab": {
          "base_uri": "https://localhost:8080/"
        },
        "id": "3AnXTuB61KVP",
        "outputId": "a7d85ca9-0e65-4c32-814b-e54596651688"
      },
      "execution_count": null,
      "outputs": [
        {
          "output_type": "execute_result",
          "data": {
            "text/plain": [
              "array([5.60763e-12, 5.60763e-12])"
            ]
          },
          "metadata": {},
          "execution_count": 180
        }
      ]
    },
    {
      "cell_type": "code",
      "source": [
        "# E_in_J=np.array([])\n",
        "# E_given=np.array([])\n",
        "# for j in range(0,n):\n",
        "#   for i in range(0,10000):\n",
        "#    E_in_J=np.append(E_in_J,E_in_J_init[j])\n",
        "#    E_given=np.append(E_given,E_given_init[j])\n",
        "# E_in_J=E_in_J.reshape(n,10000)\n",
        "# E_given=E_given.reshape(n,10000)"
      ],
      "metadata": {
        "id": "3TsATULZH_Y7"
      },
      "execution_count": null,
      "outputs": []
    },
    {
      "cell_type": "code",
      "source": [
        "# calculating energy loss before reaction while penetrating target\n",
        "\n",
        "delE=((4*np.pi*Z*rho*Na)/(A*2*E_in_J))*(z*z*e*e*e*e*K*K)*np.log((4*E_given)/I)\n",
        "\n",
        "E_left_J=np.array([])\n",
        "E_left=np.array([])\n",
        "\n",
        "for i in range (0,n):\n",
        "  E_l = E_in_J[i] - (delE[i]*x[i])  # energy left after 1st loss in J\n",
        "  E_left_J = np.append(E_left_J,E_l)\n",
        "\n",
        "E_left_J = E_left_J.reshape(n,10000)\n",
        "E_left = E_left_J/(1.60218e-16)  # energy left in keV"
      ],
      "metadata": {
        "id": "6QUDfLVvsxwR"
      },
      "execution_count": null,
      "outputs": []
    },
    {
      "cell_type": "code",
      "source": [
        "delE[1]"
      ],
      "metadata": {
        "colab": {
          "base_uri": "https://localhost:8080/"
        },
        "id": "wgjSAyT9zd98",
        "outputId": "4dc37685-3e42-469e-b48b-fd80eae66956"
      },
      "execution_count": null,
      "outputs": [
        {
          "output_type": "execute_result",
          "data": {
            "text/plain": [
              "1.0300456090494749e-14"
            ]
          },
          "metadata": {},
          "execution_count": 183
        }
      ]
    },
    {
      "cell_type": "code",
      "source": [
        "(delE[1]*x[1][1])/(1.60218e-13)"
      ],
      "metadata": {
        "colab": {
          "base_uri": "https://localhost:8080/"
        },
        "id": "c3V8zf3HtV4C",
        "outputId": "53aa50fa-7543-4aa5-b757-74ee8ecf2711"
      },
      "execution_count": null,
      "outputs": [
        {
          "output_type": "execute_result",
          "data": {
            "text/plain": [
              "5.478521301672637e-07"
            ]
          },
          "metadata": {},
          "execution_count": 178
        }
      ]
    },
    {
      "cell_type": "code",
      "source": [
        "print((E_left_J[1][1])/(1.60218e-13))"
      ],
      "metadata": {
        "colab": {
          "base_uri": "https://localhost:8080/"
        },
        "id": "bJbqSX5lLbPS",
        "outputId": "b07970b6-0794-49c4-ac9f-c221144e067b"
      },
      "execution_count": null,
      "outputs": [
        {
          "output_type": "stream",
          "name": "stdout",
          "text": [
            "34.9999998771846\n"
          ]
        }
      ]
    },
    {
      "cell_type": "code",
      "source": [
        "print(x[1][1])"
      ],
      "metadata": {
        "colab": {
          "base_uri": "https://localhost:8080/"
        },
        "id": "-HK9xb6nQkDM",
        "outputId": "1f60059d-b05c-46d7-fc24-526b59033f61"
      },
      "execution_count": null,
      "outputs": [
        {
          "output_type": "stream",
          "name": "stdout",
          "text": [
            "1.910326778700397e-06\n"
          ]
        }
      ]
    },
    {
      "cell_type": "code",
      "source": [
        "# # calculating energy of product after reaction\n",
        "# y = np.zeros((n, 10000))\n",
        "\n",
        "# for i in range(n):\n",
        "#     y1 = ((np.sqrt(a[i]*b[i]*E_left[i][:, None])*np.cos(angles[i]*np.pi/180)\n",
        "#            +np.sqrt(a[i]*b[i]*E_left[i][:, None]*np.cos(angles[i]*np.pi/180)**2+\n",
        "#             (B[i]+b[i])*(q[i]*B[i]+(B[i]-a[i])*E_left[i][:, None])))/(b[i] + B[i]))**2\n",
        "#     y[i, :, :] = y1 # energy after reaction in keV"
      ],
      "metadata": {
        "id": "ATucfaxMvwcs"
      },
      "execution_count": null,
      "outputs": []
    },
    {
      "cell_type": "code",
      "source": [
        "E_left[1]"
      ],
      "metadata": {
        "colab": {
          "base_uri": "https://localhost:8080/"
        },
        "id": "21ELaGwjT0RF",
        "outputId": "f0300916-5e17-4aa6-caf6-3cb9a8fba58f"
      },
      "execution_count": null,
      "outputs": [
        {
          "output_type": "execute_result",
          "data": {
            "text/plain": [
              "array([34777.76761337, 34855.50245643, 34507.51871653, ...,\n",
              "       34692.21433963, 34679.81701792, 34485.25753756])"
            ]
          },
          "metadata": {},
          "execution_count": 112
        }
      ]
    },
    {
      "cell_type": "code",
      "source": [
        "# calculating energy of product after reaction\n",
        "y = np.zeros((n, 10000))\n",
        "\n",
        "for i in range(n):\n",
        "    y1 = ((np.sqrt(a[i]*b[i]*E_left[i])*np.cos(angles[i]*np.pi/180)\n",
        "           +np.sqrt(a[i]*b[i]*E_left[i]*np.cos(angles[i]*np.pi/180)**2+\n",
        "            (B[i]+b[i])*(q[i]*B[i]+(B[i]-a[i])*E_left[i])))/(b[i] + B[i]))**2\n",
        "    y[i, :] = y1[:] # energy after reaction in keV"
      ],
      "metadata": {
        "id": "LB0OySEyS5eJ"
      },
      "execution_count": null,
      "outputs": []
    },
    {
      "cell_type": "code",
      "source": [
        "# calculating distance left to penetrate by lighter product\n",
        "dis=np.zeros((n,10000))\n",
        "for i in range(0,n):\n",
        "  for j in range(NEvents):\n",
        "    if angles[i][j]<90:\n",
        "      d1=(t[i]-x[i][:])/(np.cos(angles[i][j]*np.pi/180))\n",
        "    elif (angles[i][j]>90):\n",
        "      d1=x[i][:]/(np.cos((180-angles[i][j])*np.pi/180))\n",
        "    # else:\n",
        "    #   d1=r[i]\n",
        "    dis[i]=d1 # distance left to penetrate"
      ],
      "metadata": {
        "id": "dR2JxT_ByJyh"
      },
      "execution_count": null,
      "outputs": []
    },
    {
      "cell_type": "code",
      "source": [
        "dis"
      ],
      "metadata": {
        "colab": {
          "base_uri": "https://localhost:8080/"
        },
        "id": "Z_5K4E_UX46g",
        "outputId": "d2ae3802-8c03-4d2e-b800-a3213eaf5a7f"
      },
      "execution_count": null,
      "outputs": [
        {
          "output_type": "execute_result",
          "data": {
            "text/plain": [
              "array([[12.40389468,  5.79455841,  2.36821355, ...,  6.77981088,\n",
              "        12.13011153,  1.94032804],\n",
              "       [ 5.98838774,  3.89370483, 13.27065296, ...,  8.29375008,\n",
              "         8.62781466, 13.87051409]])"
            ]
          },
          "metadata": {},
          "execution_count": 120
        }
      ]
    },
    {
      "cell_type": "code",
      "source": [
        "# calculating energy loss after reaction while penetrating target\n",
        "delE2_left=np.zeros((n,10000))\n",
        "# delE=((4*np.pi*Z*rho*Na)/(A*2*y/6.242e+15))*(z2*z2*e*e*e*e*K*K)*np.log((4*y)/I)\n",
        "for i in range(0,n):\n",
        "  # delE=((4*np.pi*Z*rho*Na)/(A*2*E_in_J))*(z*z*e*e*e*e*K*K)*np.log((4*E_given)/I)\n",
        "  delE2_f=(z2[i]*z2[i]*e*e*e*e*K*K)*((4*np.pi*Z[i]*rho[i]*Na)/(A[i]*2*(y[i]/6.242e+15)))*np.log((4*y[i])/I[i])\n",
        "  delE2_left_f=(y[i]/6.242e+15-(delE2_f*dis[i]))*6.242e+15\n",
        "  delE2_left[i,:]=delE2_left_f\n",
        "\n",
        "# delE2_left=delE2_left.reshape(n,10000)  #  final energy in keV\n"
      ],
      "metadata": {
        "id": "KAUFi-unytfb"
      },
      "execution_count": null,
      "outputs": []
    },
    {
      "cell_type": "code",
      "source": [
        "(y[1]/6.242e+15)-(delE2_f*dis[1])"
      ],
      "metadata": {
        "colab": {
          "base_uri": "https://localhost:8080/"
        },
        "id": "vkTHTlnVZzLu",
        "outputId": "d680bb4a-44ea-4e21-e4c8-9a293a621c47"
      },
      "execution_count": null,
      "outputs": [
        {
          "output_type": "execute_result",
          "data": {
            "text/plain": [
              "array([ 5.53576247e-12,  5.56078745e-12,  5.44836003e-12, ...,\n",
              "       -1.29499919e-13, -1.50519973e-13, -4.82073756e-13])"
            ]
          },
          "metadata": {},
          "execution_count": 133
        }
      ]
    },
    {
      "cell_type": "code",
      "source": [
        "plt.xlabel(\"Angle in degrees\")\n",
        "plt.ylabel(\"Energy in keV \")\n",
        "plt.grid()\n",
        "for i in range(n):\n",
        "  # for j in range(10000):\n",
        "  plt.scatter (angles[i],delE2_left[i,j,:],s=1, label=reac[i])\n",
        "# plt.legend()"
      ],
      "metadata": {
        "colab": {
          "base_uri": "https://localhost:8080/",
          "height": 449
        },
        "id": "Ctg3eh5xP_T0",
        "outputId": "3d87de28-5b7d-4629-bd81-228236f84a29"
      },
      "execution_count": null,
      "outputs": [
        {
          "output_type": "display_data",
          "data": {
            "text/plain": [
              "<Figure size 640x480 with 1 Axes>"
            ],
            "image/png": "[encoded data removed]"
          },
          "metadata": {}
        }
      ]
    }
  ]
}